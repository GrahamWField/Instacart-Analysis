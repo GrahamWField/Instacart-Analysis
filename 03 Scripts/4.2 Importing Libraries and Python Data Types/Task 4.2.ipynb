{
 "cells": [
  {
   "cell_type": "markdown",
   "id": "15caacc1",
   "metadata": {},
   "source": [
    "#01. Importing Libraries"
   ]
  },
  {
   "cell_type": "code",
   "execution_count": 1,
   "id": "508f8ae2",
   "metadata": {},
   "outputs": [],
   "source": [
    "# import libraries"
   ]
  },
  {
   "cell_type": "code",
   "execution_count": 2,
   "id": "ed5ee09e",
   "metadata": {},
   "outputs": [],
   "source": [
    "import pandas as ps\n",
    "import numpy as np\n",
    "import os"
   ]
  },
  {
   "cell_type": "code",
   "execution_count": 5,
   "id": "2321ce4f",
   "metadata": {},
   "outputs": [],
   "source": [
    "x = 50"
   ]
  },
  {
   "cell_type": "code",
   "execution_count": 6,
   "id": "5ff964bf",
   "metadata": {},
   "outputs": [
    {
     "data": {
      "text/plain": [
       "100"
      ]
     },
     "execution_count": 6,
     "metadata": {},
     "output_type": "execute_result"
    }
   ],
   "source": [
    "x * 2"
   ]
  },
  {
   "cell_type": "code",
   "execution_count": 7,
   "id": "eeb8b27c",
   "metadata": {},
   "outputs": [],
   "source": [
    "y = 2"
   ]
  },
  {
   "cell_type": "code",
   "execution_count": 8,
   "id": "0b8e6e25",
   "metadata": {},
   "outputs": [
    {
     "data": {
      "text/plain": [
       "100"
      ]
     },
     "execution_count": 8,
     "metadata": {},
     "output_type": "execute_result"
    }
   ],
   "source": [
    "x * y"
   ]
  },
  {
   "cell_type": "code",
   "execution_count": 9,
   "id": "a21cead0",
   "metadata": {},
   "outputs": [
    {
     "data": {
      "text/plain": [
       "100"
      ]
     },
     "execution_count": 9,
     "metadata": {},
     "output_type": "execute_result"
    }
   ],
   "source": [
    "x + x"
   ]
  },
  {
   "cell_type": "code",
   "execution_count": 10,
   "id": "298918c8",
   "metadata": {},
   "outputs": [],
   "source": [
    "z = 8.8"
   ]
  },
  {
   "cell_type": "code",
   "execution_count": 11,
   "id": "368c9950",
   "metadata": {},
   "outputs": [],
   "source": [
    "w = 2.2"
   ]
  },
  {
   "cell_type": "code",
   "execution_count": 12,
   "id": "d45301de",
   "metadata": {},
   "outputs": [
    {
     "data": {
      "text/plain": [
       "4.0"
      ]
     },
     "execution_count": 12,
     "metadata": {},
     "output_type": "execute_result"
    }
   ],
   "source": [
    "z / w"
   ]
  },
  {
   "cell_type": "code",
   "execution_count": 13,
   "id": "212edeef",
   "metadata": {},
   "outputs": [],
   "source": [
    "a = 'Career'"
   ]
  },
  {
   "cell_type": "code",
   "execution_count": 14,
   "id": "4120cef2",
   "metadata": {},
   "outputs": [],
   "source": [
    "b = 'Foundry'"
   ]
  },
  {
   "cell_type": "code",
   "execution_count": 15,
   "id": "7d405a9b",
   "metadata": {},
   "outputs": [
    {
     "data": {
      "text/plain": [
       "'CareerFoundry'"
      ]
     },
     "execution_count": 15,
     "metadata": {},
     "output_type": "execute_result"
    }
   ],
   "source": [
    "a + b"
   ]
  },
  {
   "cell_type": "code",
   "execution_count": 19,
   "id": "d1350211",
   "metadata": {},
   "outputs": [],
   "source": [
    "c = 'Graham '"
   ]
  },
  {
   "cell_type": "code",
   "execution_count": 24,
   "id": "17356f18",
   "metadata": {},
   "outputs": [],
   "source": [
    "d = 'Field '"
   ]
  },
  {
   "cell_type": "code",
   "execution_count": 20,
   "id": "3a4c6061",
   "metadata": {},
   "outputs": [
    {
     "data": {
      "text/plain": [
       "'Graham Field'"
      ]
     },
     "execution_count": 20,
     "metadata": {},
     "output_type": "execute_result"
    }
   ],
   "source": [
    "c + d"
   ]
  },
  {
   "cell_type": "code",
   "execution_count": 25,
   "id": "1602383c",
   "metadata": {},
   "outputs": [],
   "source": [
    "e = 'is '"
   ]
  },
  {
   "cell_type": "code",
   "execution_count": 26,
   "id": "572c1f16",
   "metadata": {},
   "outputs": [],
   "source": [
    "f = 'enjoying '"
   ]
  },
  {
   "cell_type": "code",
   "execution_count": 27,
   "id": "97e83cbe",
   "metadata": {},
   "outputs": [
    {
     "data": {
      "text/plain": [
       "'Graham Field is enjoying CareerFoundry'"
      ]
     },
     "execution_count": 27,
     "metadata": {},
     "output_type": "execute_result"
    }
   ],
   "source": [
    "c + d + e + f + a + b"
   ]
  },
  {
   "cell_type": "code",
   "execution_count": null,
   "id": "2300ac4a",
   "metadata": {},
   "outputs": [],
   "source": []
  }
 ],
 "metadata": {
  "kernelspec": {
   "display_name": "Python 3 (ipykernel)",
   "language": "python",
   "name": "python3"
  },
  "language_info": {
   "codemirror_mode": {
    "name": "ipython",
    "version": 3
   },
   "file_extension": ".py",
   "mimetype": "text/x-python",
   "name": "python",
   "nbconvert_exporter": "python",
   "pygments_lexer": "ipython3",
   "version": "3.11.5"
  }
 },
 "nbformat": 4,
 "nbformat_minor": 5
}
